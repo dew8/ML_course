{
 "cells": [
  {
   "cell_type": "markdown",
   "metadata": {
    "id": "KF6aUiZgkK8p"
   },
   "source": [
    "# Home Assignment No. 1\n",
    "\n",
    "To solve this task, you will write a lot of code to try several machine learning methods for classification and regression.\n",
    "* You are **HIGHLY RECOMMENDED** to read relevant documentation, e.g. for [python](https://docs.python.org/3/), [numpy](https://docs.scipy.org/doc/numpy/reference/), [matlpotlib](https://matplotlib.org/) and [sklearn](https://scikit-learn.org/stable/). Also remember that seminars, lecture slides, [Google](http://google.com) and [StackOverflow](https://stackoverflow.com/) are your close friends during this course (and, probably, whole life?).\n",
    "\n",
    "* If you want an easy life, you have to use **BUILT-IN METHODS** of `sklearn` library instead of writing tons of your own code. There exists a class/method for almost everything you can imagine (related to this homework).\n",
    "\n",
    "* You have to write **CODE** directly inside specified places marked by comments: **BEGIN/END Solution**. Do not create new cells.\n",
    "\n",
    "* In some problems you are asked to provide a short discussion of the results. For that find the specific place marked via **Your text answer: \\<write your answer\\>**.\n",
    "\n",
    "* For every separate problem or subproblem (if specified) you can get only 0 points or maximal points for this problem. There are **NO INTERMEDIATE scores**. So make sure that you did everything required in the task.\n",
    "\n",
    "* Your **SOLUTION** notebook **MUST BE REPRODUCIBLE**, i.e., if the reviewer decides to restart the notebook and run all cells, after all the computation he will obtain exactly the same solution (with all the corresponding plots) as in your uploaded notebook. For this purpose, we suggest fixing random `seed` or (better) define `random_state=` inside every algorithm that uses some pseudorandomness.\n",
    "\n",
    "* Your code must be clear to the reviewer. For this purpose, try to include necessary comments inside the code. But remember: **GOOD CODE MUST BE SELF-EXPLANATORY** without any additional comments.\n",
    "\n",
    "* Many `sklearn` algorithms support multithreading (Ensemble Methods, Cross-Validation, etc.). Check if the particular algorithm has `n_jobs` parameters and set it to `-1` to use all the cores.\n",
    "\n",
    "To begin with, let's import the essential (for this assignment) libraries."
   ]
  },
  {
   "cell_type": "code",
   "execution_count": 1,
   "metadata": {
    "ExecuteTime": {
     "end_time": "2023-02-18T19:44:03.169181Z",
     "start_time": "2023-02-18T19:43:17.183540Z"
    },
    "id": "4E8XjwFpkK8s"
   },
   "outputs": [],
   "source": [
    "import numpy as np\n",
    "\n",
    "%matplotlib inline\n",
    "import matplotlib\n",
    "import matplotlib.pyplot as plt\n",
    "\n",
    "import pandas as pd\n",
    "\n",
    "from sklearn.datasets import make_moons, make_circles\n",
    "\n",
    "from sklearn.model_selection import train_test_split\n",
    "from sklearn.ensemble import RandomForestClassifier\n",
    "from sklearn.linear_model import LogisticRegression\n",
    "from sklearn.svm import SVC"
   ]
  },
  {
   "cell_type": "code",
   "execution_count": 2,
   "metadata": {
    "ExecuteTime": {
     "end_time": "2023-02-18T19:44:03.988042Z",
     "start_time": "2023-02-18T19:44:03.176159Z"
    },
    "id": "VnJwLJL3kK8u"
   },
   "outputs": [],
   "source": [
    "# Your imports\n",
    "\n",
    "import math\n",
    "import time\n",
    "from mlxtend.plotting import plot_decision_regions\n",
    "from itertools import product\n",
    "from sklearn.metrics._plot.roc_curve import roc_curve\n",
    "from sklearn.metrics import average_precision_score\n",
    "\n",
    "from sklearn.linear_model import LinearRegression\n",
    "from sklearn.linear_model import Ridge\n",
    "from sklearn.tree import DecisionTreeRegressor\n",
    "from sklearn.tree import DecisionTreeClassifier\n",
    "from sklearn.ensemble import RandomForestRegressor, ExtraTreesRegressor\n",
    "from sklearn.naive_bayes import GaussianNB\n",
    "from sklearn.neighbors import KNeighborsClassifier\n",
    "from sklearn.neighbors import KNeighborsRegressor\n",
    "from sklearn.multiclass import OneVsRestClassifier\n",
    "from sklearn.multiclass import OneVsOneClassifier\n",
    "from sklearn.ensemble import AdaBoostClassifier\n",
    "\n",
    "from sklearn.pipeline import Pipeline, FeatureUnion\n",
    "from sklearn.preprocessing import PolynomialFeatures, StandardScaler, QuantileTransformer, FunctionTransformer, MinMaxScaler\n",
    "from sklearn.random_projection import GaussianRandomProjection\n",
    "from sklearn.decomposition import PCA\n",
    "\n",
    "from sklearn.metrics import accuracy_score\n",
    "from sklearn.metrics import mean_squared_error as mse\n",
    "from sklearn.metrics import mean_squared_log_error as msle\n",
    "\n",
    "from sklearn.model_selection import GridSearchCV, PredefinedSplit\n",
    "\n",
    "import time\n",
    "\n",
    "import warnings\n",
    "warnings.filterwarnings('ignore')"
   ]
  },
  {
   "cell_type": "markdown",
   "metadata": {
    "id": "XB3WDr5xkK8u"
   },
   "source": [
    "## Task 1. Numpy Problem 1 (1 point)\n",
    "\n",
    "Write a function, which takes a matrix `arr` and shift by mean and scale by standard deviation each column. Check [this](https://docs.scipy.org/doc/numpy/reference/routines.statistics.html)\n",
    "out for documentation."
   ]
  },
  {
   "cell_type": "code",
   "execution_count": 3,
   "metadata": {
    "ExecuteTime": {
     "end_time": "2023-02-18T19:44:04.003999Z",
     "start_time": "2023-02-18T19:44:03.992032Z"
    },
    "id": "4KNc6um8kK8v"
   },
   "outputs": [],
   "source": [
    "def normalize(arr):\n",
    "    \"\"\"Shift by mean and scale by standard deviation each column of a matrix.\n",
    "\n",
    "    Parameters\n",
    "    ----------\n",
    "    arr : array, shape = (n_rows, n_cols)\n",
    "        The matrix, the columns of which to normalize.\n",
    "\n",
    "    Returns\n",
    "    ----------\n",
    "    out : array, shape = (n_rows, n_cols)\n",
    "        The final column-centered matrix.\n",
    "    \"\"\"\n",
    "    assert arr.ndim == 2\n",
    "    n_rows, n_cols = arr.shape\n",
    "\n",
    "    ### BEGIN Solution (do not delete this comment)\n",
    "    array_means_unit = arr.mean(axis=0)\n",
    "    array_means = np.full((n_rows, n_cols), array_means_unit)\n",
    "    \n",
    "    array_stds_unit = arr.std(axis=0)\n",
    "    array_stds = np.full((n_rows, n_cols), array_stds_unit)\n",
    "    \n",
    "    out = (arr - array_means)/array_stds\n",
    "    ### END Solution (do not delete this comment)\n",
    "\n",
    "    return out"
   ]
  },
  {
   "cell_type": "markdown",
   "metadata": {
    "id": "IlFXLHz4kK8v"
   },
   "source": [
    "## Task 2. Numpy Problem 2 (1 point)\n",
    "\n",
    "Plot the **Hypotrochoid** given by the following equation:\n",
    "$$\\begin{cases}\n",
    "x(t)=(R - r) \\cdot \\cos(t) + d \\cdot \\cos\\bigg(\\frac{R - r}{r}\\cdot t\\bigg)\\\\\n",
    "y(t)=(R - r) \\cdot \\sin(t) - d \\cdot \\sin\\bigg(\\frac{R - r}{r}\\cdot t\\bigg)\n",
    "\\end{cases}, 0\\leq t\\leq 2\\pi\\cdot \\frac{LCM(r, R)}{R};$$\n",
    "(LCM - Least Common Multiple)\n",
    "with all possible values of $(R,r,d)$ if $R\\in\\{5,9\\}$, $r\\in\\{2,3\\}$, $d\\in\\{3,4\\}$.\n",
    "\n",
    "Make sure that each plot has different color.\n",
    "\n",
    "To compute LCM you can use `math.gcd` and relationship between LCM and GCD"
   ]
  },
  {
   "cell_type": "code",
   "execution_count": 4,
   "metadata": {
    "ExecuteTime": {
     "end_time": "2023-02-18T19:44:05.431557Z",
     "start_time": "2023-02-18T19:44:04.007988Z"
    },
    "colab": {
     "base_uri": "https://localhost:8080/",
     "height": 248
    },
    "id": "RbA-KqpIkK8w",
    "outputId": "b47e8e80-419b-48ef-e6b5-430fe4aeed8a"
   },
   "outputs": [
    {
     "data": {
      "image/png": "[encoded data removed]",
      "text/plain": [
       "<Figure size 432x288 with 1 Axes>"
      ]
     },
     "metadata": {
      "needs_background": "light"
     },
     "output_type": "display_data"
    }
   ],
   "source": [
    "### BEGIN Solution (do not delete this comment)\n",
    "fig = plt.figure()\n",
    "ax = plt.subplot()\n",
    "ax.axis('off')\n",
    "\n",
    "\n",
    "def lcm(a,b):\n",
    "    return int( (a*b) / math.gcd(a,b))\n",
    "\n",
    "def draw(R, r, d):\n",
    "    t = np.linspace(0, 2 * np.pi * lcm(r, R)/R, 300)\n",
    "    x = ((R - r)* np.cos(t)) + (d * np.cos(t * ((R-r)/r)))\n",
    "    y = ((R - r)* np.sin(t)) - (d * np.sin(t * ((R-r)/r)))\n",
    "    ax.plot(x, y, lw=1)\n",
    "\n",
    "R_array = [5, 9]\n",
    "r_array = [2, 3]\n",
    "d_array = [3, 4]\n",
    "\n",
    "for R, r, d in product(R_array, r_array, d_array):\n",
    "    draw(R, r, d)\n",
    "    \n",
    "plt.show()\n",
    "### END Solution (do not delete this comment)"
   ]
  },
  {
   "cell_type": "markdown",
   "metadata": {
    "id": "oc_gCZCqkK8y"
   },
   "source": [
    "## Task 3. Matplotlib (1 points)\n",
    "\n",
    "Plot the level sets of the $l^p$ norm (actually, this is not a norm for $p<1$)\n",
    "\\begin{equation}\n",
    "    \\|z\\|_p = \\biggl(\\sum_i \\lvert x_i\\rvert^p\\biggr)^\\tfrac1{p}\n",
    "        \\,,\n",
    "\\end{equation}\n",
    "and make the contour of the unit ball in $l^p$ norm stand out. Draw plots\n",
    "for $p \\in \\{0, \\tfrac1{20}, \\tfrac14, \\tfrac12, 1, 1.5, 2, 5, 10, \\infty\\}$.\n",
    "\n",
    "Study plotting examples on [this](https://matplotlib.org/api/_as_gen/matplotlib.pyplot.contourf.html#matplotlib.pyplot.contourf) and [this](http://scikit-learn.org/stable/auto_examples/svm/plot_oneclass.html) pages (**especially the last one**) and have a look at these functions: *np.meshgrid*, *np.linspace* in numpy's documentation. We suggest to use `np.linalg.norm`.\n",
    "\n",
    "Try to produce a plot that **looks like the one below**:\n",
    "\n",
    "<img src=\"data:image/png;base64,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\"/>"
   ]
  },
  {
   "cell_type": "code",
   "execution_count": 5,
   "metadata": {
    "ExecuteTime": {
     "end_time": "2023-02-18T19:44:07.471082Z",
     "start_time": "2023-02-18T19:44:05.434550Z"
    },
    "colab": {
     "base_uri": "https://localhost:8080/",
     "height": 403
    },
    "id": "n2kUz2n5kK83",
    "outputId": "341cfab2-a51d-460b-ce32-e54a7f241a0d",
    "scrolled": false
   },
   "outputs": [
    {
     "data": {
      "image/png": "[encoded data removed]",
      "text/plain": [
       "<Figure size 1152x504 with 10 Axes>"
      ]
     },
     "metadata": {
      "needs_background": "light"
     },
     "output_type": "display_data"
    }
   ],
   "source": [
    "p_values = [0., 0.05, 0.25, 0.5, 1, 1.5, 2, 5, 10, np.inf]\n",
    "xx, yy = np.meshgrid(np.linspace(-3, 3, num=101),\n",
    "                     np.linspace(-3, 3, num=101))\n",
    "\n",
    "fig, axes = plt.subplots(ncols=(len(p_values) + 1)// 2,\n",
    "                         nrows=2, figsize=(16, 7))\n",
    "\n",
    "for p, ax in zip(p_values, axes.flat):\n",
    "    ### BEGIN Solution (do not delete this comment)\n",
    "    l_p = np.linalg.norm(np.stack((xx, yy)), axis = 0, ord=p)\n",
    "    fig.add_subplot(ax)\n",
    "    plt.contourf(xx, yy, l_p, 20, cmap='coolwarm')\n",
    "    un_ball = plt.contour(xx, yy, l_p, levels=[1], linewidths=3, colors='magenta')\n",
    "    plt.title('p=' + str(p))\n",
    "    plt.legend(['{$x: |x|_{' + '{}'.format(str(p)) + '} = 1$}'])    \n",
    "    ### END Solution (do not delete this comment)\n",
    "plt.show()"
   ]
  },
  {
   "cell_type": "markdown",
   "metadata": {
    "id": "D5DJCwgGkK83"
   },
   "source": [
    "## Task 4. Decision Rules and Feature Engineering (1+1 points)"
   ]
  },
  {
   "cell_type": "markdown",
   "metadata": {
    "id": "IR9tfOC6kK84"
   },
   "source": [
    "In this task, your goal is to visualize the decision rules of several classifiers applied to an artificial $2$-dimensional dataset inspired by the dataset that can be created using the built-in `sklearn.datasets` method called `make_moons`. The main difference is a sun added outside the moons. In the cell below we generate the dataset."
   ]
  },
  {
   "cell_type": "code",
   "execution_count": 6,
   "metadata": {
    "ExecuteTime": {
     "end_time": "2023-02-18T19:44:07.518915Z",
     "start_time": "2023-02-18T19:44:07.473037Z"
    },
    "id": "JpdMZpLLkK84"
   },
   "outputs": [],
   "source": [
    "def make_sunny_moons(n_sun=50, n_moons=100, noise=0.0, sun_radius=1.9, theta=None):\n",
    "    X_moons, y_moons = make_moons(n_samples=n_moons, noise=noise, random_state=0xC0FFEE)\n",
    "    if not n_sun:\n",
    "        return X_moons, y_moons\n",
    "    \n",
    "    np.random.seed(0xC0FFEE)\n",
    "    angles = np.arange(0, 2 * np.pi, 2 * np.pi / n_sun)\n",
    "    X_sun = sun_radius * np.column_stack([np.cos(angles), np.sin(angles)]) + np.array([0.5, 0.25])\n",
    "    X_sun += np.random.normal(scale=noise, size=X_sun.shape)\n",
    "    y_sun = 2 * np.ones(n_sun)\n",
    "\n",
    "    X = np.vstack([X_moons, X_sun])\n",
    "    y = np.concatenate([y_moons, y_sun]).astype(int)\n",
    "    X -= X.mean(axis=0)\n",
    "\n",
    "    if theta is None:\n",
    "        theta = np.pi / 4\n",
    "    c, s = np.cos(theta), np.sin(theta)\n",
    "    R = np.array(((c,-s), (s, c)))\n",
    "    X = X @ R\n",
    "    \n",
    "    return X, y\n",
    "\n",
    "X, y = make_sunny_moons(n_sun=150, n_moons=300, noise=0.15)"
   ]
  },
  {
   "cell_type": "code",
   "execution_count": 7,
   "metadata": {
    "ExecuteTime": {
     "end_time": "2023-02-18T19:44:07.758068Z",
     "start_time": "2023-02-18T19:44:07.524898Z"
    },
    "colab": {
     "base_uri": "https://localhost:8080/",
     "height": 265
    },
    "id": "Yl0ijKnpkK84",
    "outputId": "8d727905-7d22-4c5b-b603-997e48328de4"
   },
   "outputs": [
    {
     "data": {
      "image/png": "[encoded data removed]",
      "text/plain": [
       "<Figure size 432x288 with 1 Axes>"
      ]
     },
     "metadata": {
      "needs_background": "light"
     },
     "output_type": "display_data"
    }
   ],
   "source": [
    "plt.scatter(X[:,0], X[:,1], c=y)\n",
    "plt.show()"
   ]
  },
  {
   "cell_type": "markdown",
   "metadata": {
    "id": "4elUqFvAkK85"
   },
   "source": [
    "### Subproblem 4.1. Decision Rule Plotting (1 point)"
   ]
  },
  {
   "cell_type": "markdown",
   "metadata": {
    "id": "cA-xUt1kkK85"
   },
   "source": [
    "The goal of the subproblem is to fit the following classifiers on features `X` to target `y`:\n",
    "* Decision Tree (single!) with small depth ($\\leq 4$);\n",
    "* Random Forest with a small number of trees ($\\leq 20$) of small depth ($\\leq 4$);\n",
    "* Logistic Regression;\n",
    "* Support Vector Machine with RBF kernel;\n",
    "* Gaussian Naive Bayes;\n",
    "* k-Nearest Neighbor Classifier with a small number of neighbors (e.g. $5$);\n",
    "\n",
    "For all the fitted classifiers you have to plot the decision regions (the example is shown below the cell). Each plot must have **Title** which contains the name of the classifier and its accuracy (only **two** decimal places) on the data.\n",
    "\n",
    "You can write the plotting code on your own, but we highly recommend just to use `mlxtend` library (`pip install mlxtend` in linux terminal), which has an awesome one-line decision rule plotting function (you are to [google](http://google.com) it)."
   ]
  },
  {
   "cell_type": "markdown",
   "metadata": {
    "id": "AL-sxt6CUb7B"
   },
   "source": [
    "![image](data/ex.png)"
   ]
  },
  {
   "cell_type": "code",
   "execution_count": null,
   "metadata": {
    "ExecuteTime": {
     "start_time": "2023-02-18T19:43:17.204Z"
    },
    "colab": {
     "base_uri": "https://localhost:8080/",
     "height": 519
    },
    "id": "nt4c9HOzkK85",
    "outputId": "38d885c3-7843-4189-8e55-42d82af20913"
   },
   "outputs": [],
   "source": [
    "### BEGIN Solution (do not delete this comment)\n",
    "clfs = [\n",
    "    DecisionTreeClassifier(max_depth=4, random_state=42),\n",
    "    RandomForestClassifier(n_estimators=20, max_depth=4, random_state=42),\n",
    "    LogisticRegression(random_state=42),\n",
    "    SVC(random_state=42),\n",
    "    GaussianNB(),\n",
    "    KNeighborsClassifier(n_neighbors=5)\n",
    "       ]\n",
    "\n",
    "labels = [\n",
    "    'DecisionTreeClassifier',\n",
    "    'RandomForestClassifier',\n",
    "    'LogisticRegression',\n",
    "    'SVC',\n",
    "    'GaussianNB',\n",
    "    'KNeighborsClassifier'   \n",
    "]\n",
    "\n",
    "fig, axes = plt.subplots(ncols=(len(clfs) + 1)// 2,\n",
    "                         nrows=2, figsize=(30, 18))\n",
    "\n",
    "for clf, ax, label in zip(clfs, axes.flat, labels):\n",
    "    clf.fit(X,y)\n",
    "    fig.add_subplot(ax)\n",
    "    ax = plot_decision_regions(X=X, y=y, clf=clf)\n",
    "    accuracy = clf.score(X,y)\n",
    "    \n",
    "    plt.title(label + ', accuracy = ' + str(round(accuracy, 2)))\n",
    "### END Solution (do not delete this comment)"
   ]
  },
  {
   "cell_type": "markdown",
   "metadata": {
    "id": "DOAwqJnNkK86"
   },
   "source": [
    "### Subproblem 4.2. Pipeline: Fitting to Data by Feature Engineering (1 point)\n",
    "In previous task 4.1 several classifiers obviously failed fitting to data. This happened because the decision rule of the classifier has a restricted form (e.g. linear for linear models), while the data is more complicated.\n",
    "\n",
    "One may try to change the parameters of the classifier (e.g. increase the number of trees in Forest) in order to improve accuracy, but some models (especially linear) do not have parameters that can change the form of the decision rule.\n",
    "\n",
    "In this case the **feature engineering** helps: one may try to compute new (e.g. non-linear) features based on the existing pool and fit the classifier in the new features. This may help low-complex classifiers to fit to hard data dependencies.\n",
    "\n",
    "Your task it to\n",
    "* Choose **two classifiers** from the previous problem among Decision Tree, Random Forest, Naive Bayes, Logistic Regression;\n",
    "* By generating of additional features (e.g. polynomial) make them achieve accuracy $>0.95$.\n",
    "* For each classifier, write 2-3 sentences about why did you choose these features.\n",
    "* Plot their decision rules in the original feature space.\n",
    "\n",
    "It is your choice how to generate features. You may create hand-crafted features and add them manually. Nevertheless, we **highly suggest** to get used to and apply the following builtin `sklearn` methods:\n",
    "* `PolynomialFeatures`, `GaussianRandomProjection` among others - for feature generation\n",
    "* `StandartScaler`, `MinMaxScaler` among others - for feature scaling\n",
    "* `Pipeline` - for combining several operations in a row (e.g. feature creation & prediction)"
   ]
  },
  {
   "cell_type": "code",
   "execution_count": null,
   "metadata": {
    "ExecuteTime": {
     "start_time": "2023-02-18T19:43:17.209Z"
    },
    "colab": {
     "base_uri": "https://localhost:8080/",
     "height": 363
    },
    "id": "11yJI89_kK86",
    "outputId": "04ea2510-1937-4fc6-8255-c43f4fd6df1e"
   },
   "outputs": [],
   "source": [
    "### BEGIN Solution (do not delete this comment)\n",
    "clfs = [\n",
    "    Pipeline([\n",
    "        ('scaler', StandardScaler()), \n",
    "        ('features', PolynomialFeatures(6)),\n",
    "        ('LR', LogisticRegression(random_state=42))]),\n",
    "    Pipeline([\n",
    "        ('scaler', StandardScaler()), \n",
    "        ('features', PolynomialFeatures(4)),\n",
    "        ('GRP', GaussianRandomProjection(16, random_state=42)),\n",
    "        ('DTC', DecisionTreeClassifier(max_depth=4, random_state=42))])\n",
    "       ]\n",
    "\n",
    "labels = [\n",
    "          'LogisticRegression',\n",
    "          'DecisionTreeClassifier'  \n",
    "]\n",
    "\n",
    "fig, axes = plt.subplots(ncols=2,\n",
    "                         nrows=1, figsize=(25, 10))\n",
    "\n",
    "for clf, ax, label in zip(clfs, axes.flat, labels):\n",
    "    clf.fit(X,y)\n",
    "    fig.add_subplot(ax)\n",
    "    ax = plot_decision_regions(X=X, y=y, clf=clf)\n",
    "    accuracy = clf.score(X,y)\n",
    "    \n",
    "    plt.title(label + ', accuracy = ' + str(round(accuracy, 3)))\n",
    "### END Solution (do not delete this comment)"
   ]
  },
  {
   "cell_type": "markdown",
   "metadata": {
    "id": "RA_2Ip1wkK86"
   },
   "source": [
    "**Your text answer (do not delete this comment)**:\n",
    "\n",
    "I used Polynomial Features for classifiers because I wanted to add a non-linear relationship between the features. Then I drop useless features with GaussianRandomProjection."
   ]
  },
  {
   "cell_type": "markdown",
   "metadata": {
    "id": "4TqOHDd-kK86"
   },
   "source": [
    "## Task 5. Bagging Ensembles of Regressors (1+1 points)\n",
    "In this problem, you are to deal with [Concrete Compressive Strength Dataset](https://www.kaggle.com/elikplim/concrete-compressive-strength-data-set). Your goal will be to determine the optimal parameters for two Bagging-Based Forest Ensemble **Regressors** and compare the forests. Let's load the data and split it into test and train parts."
   ]
  },
  {
   "cell_type": "code",
   "execution_count": null,
   "metadata": {
    "ExecuteTime": {
     "start_time": "2023-02-18T19:43:17.215Z"
    },
    "colab": {
     "base_uri": "https://localhost:8080/",
     "height": 207
    },
    "id": "acSkFtWFkK87",
    "outputId": "fc5ec7c1-c575-4350-b4cb-6759085ca39e"
   },
   "outputs": [],
   "source": [
    "#data = pd.read_csv('/content/drive/MyDrive/Colab Notebooks/hw1_ML/data/concrete.csv').astype(float)\n",
    "data = pd.read_csv('./data/concrete.csv').astype(float)\n",
    "X = data.drop('concrete_compressive_strength', axis=1)\n",
    "y = data.concrete_compressive_strength\n",
    "n = len(X)\n",
    "\n",
    "X_train_val, X_test, y_train_val, y_test = train_test_split(X, y, test_size=int(n*0.15), random_state=0xC0FFEE)\n",
    "X_train, X_val, y_train, y_val = train_test_split(X_train_val, y_train_val, test_size=int(n*0.15), random_state=0xC0FFEE)\n",
    "\n",
    "data.sample(3).sort_index()"
   ]
  },
  {
   "cell_type": "markdown",
   "metadata": {
    "id": "PJJm9DLzkK87"
   },
   "source": [
    "Please note that both in Task 4 the whole data was the Train Data. In Task 4 the output score (accuracy) was the **train** score (i.e. the score on the train data of the model fitted on the same data).\n",
    "\n",
    "In this problem, we do a step further and split the whole data into the **train part** (on which we train), **validation part** (on which we tune hyperparameters) and **test part** (where we compute the final test score on the validated model).\n",
    "\n",
    "In this problem, you are to consider the `RandomForestRegressor` and `ExtraTreesRegressor` models for the prediction of concrete compressive strength under **squared loss function** (mean squared error). Recall that Random Forest was discussed in the lectures. [Extremely Randomized Forest](http://citeseerx.ist.psu.edu/viewdoc/download?doi=10.1.1.65.7485&rep=rep1&type=pdf) is another bootstrapped forest with a simple tree building algorithm. Basically, each split of each tree node is chosen at random both w.r.t. feature and threshold (while in the random forest the split minimizes impurity)."
   ]
  },
  {
   "cell_type": "markdown",
   "metadata": {
    "id": "kjDmaq6FkK88"
   },
   "source": [
    "### Subproblem 5.1. Hyperparameters tuning (1 point)"
   ]
  },
  {
   "cell_type": "markdown",
   "metadata": {
    "id": "0Bt2dfy9kK88"
   },
   "source": [
    "* For both Forests perform the Grid Search (on the validation data) over most important algorithm's parameters (what are they?) to determine the optimal hyperparameters.\n",
    "* For the optimal hyperparameters output the train score, the validation score and the test score (use the model with best hyperparameters refitted on the train set)."
   ]
  },
  {
   "cell_type": "code",
   "execution_count": null,
   "metadata": {
    "ExecuteTime": {
     "start_time": "2023-02-18T19:43:17.222Z"
    },
    "colab": {
     "base_uri": "https://localhost:8080/"
    },
    "id": "dXBA4gd4kK88",
    "outputId": "c9c3bb23-b3e2-444c-a8a4-af25dfecceb3"
   },
   "outputs": [],
   "source": [
    "### BEGIN Solution (do not delete this comment)\n",
    "regs =  {'RandomForestRegressor': RandomForestRegressor(criterion=\"squared_error\", random_state=42),\n",
    "         'ExtraTreesRegressor': ExtraTreesRegressor(criterion=\"squared_error\", random_state=42)\n",
    "        }\n",
    "\n",
    "parameters = {'max_depth': range(1, 30, 5),\n",
    "              'n_estimators': range(10, 500, 30)}\n",
    "\n",
    "df = pd.DataFrame(columns = ['Regressor', 'Train', 'Valid', 'Test'])\n",
    "\n",
    "for key, reg in regs.items():\n",
    "    cv_reg = GridSearchCV(reg, param_grid=parameters)\n",
    "    cv_reg.fit(X_train_val, y_train_val)\n",
    "    cv_reg_best = cv_reg.best_estimator_\n",
    "    cv_reg_best.fit(X_train, y_train)\n",
    "    df=df.append({'Regressor':key,'Train':round(mse(y_train,cv_reg_best.predict(X_train)), 2),\n",
    "                  'Valid': round(mse(y_val,cv_reg_best.predict(X_val)), 2),\n",
    "                  'Test': round(mse(y_test,cv_reg_best.predict(X_test)), 2)},ignore_index=True)\n",
    "\n",
    "print(df.to_string(index=False))\n",
    "### END Solution (do not delete this comment)"
   ]
  },
  {
   "cell_type": "markdown",
   "metadata": {
    "id": "2c3AwPs1kK88"
   },
   "source": [
    "### Subproblem 5.2. Results explanation (1 point) "
   ]
  },
  {
   "cell_type": "markdown",
   "metadata": {
    "id": "39i2oICvkK89"
   },
   "source": [
    "* Compare the obtained scores. Explain, why the scores differ a lot for train and validation/test.\n",
    "* Which of the algorithms perform better on the training set? Explain why!"
   ]
  },
  {
   "cell_type": "markdown",
   "metadata": {
    "id": "N9T1-4B_kK89"
   },
   "source": [
    "**Your text answer (do not delete this comment)**:\n",
    "\n",
    "We get better score for train part because we train our model on this train data.  \n",
    "ExtraTrees seems more quickly than RandomForest. RandomForest should be more precise than ExtraTress. This may be due to the fact that the data may be noisy. In that case, ExtraTrees works better than RandomForest."
   ]
  },
  {
   "cell_type": "markdown",
   "metadata": {
    "id": "PA2cvuLwkK89"
   },
   "source": [
    "## Task 6. Boosting (1+1 points)"
   ]
  },
  {
   "cell_type": "markdown",
   "metadata": {
    "id": "5HE2-vFUkK89"
   },
   "source": [
    "\n",
    "> Boosting Machines (BM) is a family of widely popular and effective methods for classification and regression tasks. The main idea behind BMs is that **combining weak learners**, which perform slightly better than random, can result in **strong learning models**.\n",
    "\n",
    "> AdaBoost utilizes the greedy training approach: firstly, we train the weak learners (they are later called `base_classifiers`) on the whole dataset and in the next iterations we train the model on the samples, on the which the previous models have performed poorly. This behavior is achieved by reweighting the training samples during each algorithm's step."
   ]
  },
  {
   "cell_type": "markdown",
   "metadata": {
    "id": "IpSu77SAkK89"
   },
   "source": [
    "#### The task:\n",
    "\n",
    "In this exercise you will be asked to implement one of the earlier variants of BMs - **AdaBoost** and compare it to the already existing `sklearn` implementation. The key steps are:\n",
    "\n",
    "* Complete the `ada_boost_alpha` and `ada_boost_distribution` functions\n",
    "\n",
    "* Complete the `.fit` method of `Boosting` class\n",
    "\n",
    "* Complete the `.predict` method of `Boosting` class\n",
    "\n",
    "The pseudocode for AdaBoost can be found in lectures.\n",
    "\n",
    "For `ada_boost_distribution` please use another pseudocode, that used for `sklearn` realization:\n",
    "$$\n",
    "\\begin{align}\n",
    "&\\textbf{for } i \\gets 1 \\textbf{ to } m \\textbf{ do}\\\\\n",
    "&\\;\\;\\;\\;w_{i,t+1}\\gets w_{i,t}\\exp(-\\alpha_t y_t h_t(\\mathbf{x}_i))\\\\\n",
    "&C = \\sum_{j=1}^m w_{j,t+1}\\\\\n",
    "&\\textbf{for } i \\gets 1 \\textbf{ to } m \\textbf{ do}\\\\\n",
    "&\\;\\;\\;\\;\\tilde{w}_{i,t+1}\\gets \\tfrac{1}{C}w_{i,t+1}\n",
    "\\end{align}\n",
    "$$\n",
    "\n",
    "##### criteria\n",
    "\n",
    "the decision boundary of the final implementation should look reasonably identical to the model from `sklearn`, and should achieve accuracy close to `scikit` :\n",
    "\n",
    "$$\n",
    "    |\\text{your\\_accuracy} - \\text{sklearn\\_accuracy}| \\leq 0.005\n",
    "\\,. $$"
   ]
  },
  {
   "cell_type": "code",
   "execution_count": null,
   "metadata": {
    "ExecuteTime": {
     "start_time": "2023-02-18T19:43:17.230Z"
    },
    "id": "6XYjeiaRkK8-"
   },
   "outputs": [],
   "source": [
    "%matplotlib inline\n",
    "\n",
    "import numpy as np\n",
    "import matplotlib.pyplot as plt\n",
    "from matplotlib.colors import ListedColormap\n",
    "\n",
    "from sklearn.datasets import make_moons\n",
    "from sklearn.model_selection import train_test_split"
   ]
  },
  {
   "cell_type": "code",
   "execution_count": null,
   "metadata": {
    "ExecuteTime": {
     "start_time": "2023-02-18T19:43:17.236Z"
    },
    "id": "0DT7bYAbkK8-"
   },
   "outputs": [],
   "source": [
    "### Plot the dataset\n",
    "\n",
    "X, y = make_moons(n_samples=1000, noise=0.3, random_state=0xC0FFEE)\n",
    "\n",
    "# for convenience convert labels from {0, 1} to {-1, 1}\n",
    "y[y == 0] = -1"
   ]
  },
  {
   "cell_type": "code",
   "execution_count": null,
   "metadata": {
    "ExecuteTime": {
     "start_time": "2023-02-18T19:43:17.240Z"
    },
    "id": "ynIyxickkK8-"
   },
   "outputs": [],
   "source": [
    "X_train, X_test, y_train, y_test = train_test_split(X, y, test_size=0.2, random_state=0xC0FFEE)\n",
    "\n",
    "x_min, x_max = X[:, 0].min() - .5, X[:, 0].max() + .5\n",
    "y_min, y_max = X[:, 1].min() - .5, X[:, 1].max() + .5\n",
    "xx, yy = np.meshgrid(np.linspace(x_min, x_max, 30),\n",
    "                     np.linspace(y_min, y_max, 30))\n",
    "\n",
    "cm = plt.cm.RdBu\n",
    "cm_bright = ListedColormap(['#FF0000', '#0000FF'])"
   ]
  },
  {
   "cell_type": "code",
   "execution_count": null,
   "metadata": {
    "ExecuteTime": {
     "start_time": "2023-02-18T19:43:17.247Z"
    },
    "colab": {
     "base_uri": "https://localhost:8080/",
     "height": 265
    },
    "id": "JFkNeQQ_kK8-",
    "outputId": "a044e691-d723-48d2-d71f-4af6dffbde16"
   },
   "outputs": [],
   "source": [
    "# Plot the training points\n",
    "plt.figure(figsize=(4, 4))\n",
    "plt.scatter(X_train[:, 0], X_train[:, 1], c=y_train, cmap=cm_bright)\n",
    "plt.scatter(X_test[:, 0], X_test[:, 1], marker='.', c=y_test, cmap=cm_bright)\n",
    "plt.show()"
   ]
  },
  {
   "cell_type": "code",
   "execution_count": null,
   "metadata": {
    "ExecuteTime": {
     "start_time": "2023-02-18T19:43:17.251Z"
    },
    "id": "yf1qB5CpkK8_"
   },
   "outputs": [],
   "source": [
    "from sklearn.tree import DecisionTreeClassifier # base classifier"
   ]
  },
  {
   "cell_type": "markdown",
   "metadata": {
    "id": "xjz7wLuokK8_"
   },
   "source": [
    "### Subproblem 6.1. AdaBoost alphas and distributions (1 point)"
   ]
  },
  {
   "cell_type": "markdown",
   "metadata": {
    "id": "HmSzjYU7kK8_"
   },
   "source": [
    "Now let us define functions to calculate alphas and distributions for AdaBoost algorithm"
   ]
  },
  {
   "cell_type": "code",
   "execution_count": null,
   "metadata": {
    "ExecuteTime": {
     "start_time": "2023-02-18T19:43:17.256Z"
    },
    "id": "z6W94HQQkK8_"
   },
   "outputs": [],
   "source": [
    "def ada_boost_alpha(y, y_pred_t, distribution):\n",
    "    \"\"\"\n",
    "    Function, which calculates the weights of the linear combination of the classifiers.\n",
    "    \n",
    "    y_pred_t is a prediction of the t-th base classifier\n",
    "    \"\"\"\n",
    "    ### BEGIN Solution (do not delete this comment)\n",
    "    error = np.sum(distribution*(y!=y_pred_t))\n",
    "    alpha = np.log((1-error)/(error))/2\n",
    "    ### END Solution (do not delete this comment)\n",
    "\n",
    "    return alpha\n",
    "\n",
    "def ada_boost_distribution(y, y_pred_t, distribution, alpha_t):\n",
    "    \"\"\"\n",
    "    Function, which calculates sample weights\n",
    "    \n",
    "    y_pred_t is a prediction of the t-th base classifier\n",
    "    \"\"\"\n",
    "    ### BEGIN Solution (do not delete this comment)\n",
    "    num = y.shape[0]\n",
    "    for i in range(num):\n",
    "        distribution[i] = distribution[i]*np.exp(-alpha_t*y[i]*y_pred_t[i])\n",
    "    Sum_weight = np.sum(distribution)\n",
    "    distribution = distribution/Sum_weight\n",
    "    ### END Solution (do not delete this comment)\n",
    "\n",
    "    return distribution"
   ]
  },
  {
   "cell_type": "markdown",
   "metadata": {
    "id": "dt7o8iACkK9A"
   },
   "source": [
    "### Subproblem 6.2. Boosting implementation (1 point)"
   ]
  },
  {
   "cell_type": "markdown",
   "metadata": {
    "id": "tdb3RaN5kK9A"
   },
   "source": [
    "Implement your own AdaBoost algorithm. Then compare it with the `sklearn` implementation."
   ]
  },
  {
   "cell_type": "code",
   "execution_count": null,
   "metadata": {
    "ExecuteTime": {
     "start_time": "2023-02-18T19:43:17.264Z"
    },
    "id": "VCzknsP0kK9A"
   },
   "outputs": [],
   "source": [
    "class Boosting():\n",
    "    \"\"\"\n",
    "    Generic class for construction of boosting models\n",
    "    \n",
    "    :param n_estimators: int, number of estimators (number of boosting rounds)\n",
    "    :param base_classifier: callable, a function that creates a weak estimator. Weak estimator should support sample_weight argument\n",
    "    :param get_alpha: callable, a function, that calculates new alpha given current distribution, prediction of the t-th base estimator,\n",
    "                      boosting prediction at step (t-1) and actual labels\n",
    "    :param get_distribution: callable, a function, that calculates samples weights given current distribution, prediction, alphas and actual labels\n",
    "    \"\"\"\n",
    "    def __init__(self, n_estimators=50, base_classifier=None,\n",
    "                 get_alpha=ada_boost_alpha, update_distribution=ada_boost_distribution):\n",
    "        self.n_estimators = n_estimators\n",
    "        self.base_classifier = base_classifier\n",
    "        self.get_alpha = get_alpha\n",
    "        self.update_distribution = update_distribution\n",
    "        \n",
    "    def fit(self, X, y):\n",
    "        n_samples = len(X)\n",
    "        distribution = np.ones(n_samples, dtype=float) / n_samples\n",
    "        self.classifiers = []\n",
    "        self.alphas = []\n",
    "        for i in range(self.n_estimators):\n",
    "            # create a new classifier\n",
    "            self.classifiers.append(self.base_classifier())     \n",
    "            self.classifiers[-1].fit(X, y, sample_weight=distribution)\n",
    "\n",
    "            ### BEGIN Solution (do not delete this comment)\n",
    "            \n",
    "            # make a prediction\n",
    "            y_pred = self.classifiers[-1].predict(X)\n",
    "            #update alphas, append new alpha to self.alphas\n",
    "            alpha = self.get_alpha(y, y_pred, distribution)\n",
    "            self.alphas.append(alpha)\n",
    "            # update distribution and normalize\n",
    "            distribution = self.update_distribution(y, y_pred, distribution, alpha)\n",
    "            ### END Solution (do not delete this comment)\n",
    "\n",
    "    \n",
    "    def predict(self, X):\n",
    "        final_predictions = np.zeros(X.shape[0])\n",
    "    \n",
    "        ### BEGIN Solution (do not delete this comment)\n",
    "        \n",
    "        #get the weighted votes of the classifiers\n",
    "        for clf, alpha in zip(self.classifiers, self.alphas):\n",
    "            final_predictions += clf.predict(X)*alpha\n",
    "            \n",
    "        out = np.sign(final_predictions)\n",
    "        ### END Solution (do not delete this comment)\n",
    "\n",
    "        return out"
   ]
  },
  {
   "cell_type": "code",
   "execution_count": null,
   "metadata": {
    "ExecuteTime": {
     "start_time": "2023-02-18T19:43:17.268Z"
    },
    "colab": {
     "base_uri": "https://localhost:8080/"
    },
    "id": "mU2MxIuqkK9A",
    "outputId": "4c101ee4-edca-472f-9408-01572a0d79f2"
   },
   "outputs": [],
   "source": [
    "from sklearn.ensemble import AdaBoostClassifier\n",
    "\n",
    "max_depth = 5\n",
    "n_estimators = 100\n",
    "\n",
    "get_base_clf = lambda: DecisionTreeClassifier(max_depth=max_depth)\n",
    "ada_boost = Boosting(n_estimators=n_estimators,\n",
    "                     base_classifier=get_base_clf)\n",
    "ada_boost.fit(X_train, y_train)\n",
    "\n",
    "ada_boost_sklearn = AdaBoostClassifier(DecisionTreeClassifier(max_depth=max_depth),\n",
    "                                       algorithm=\"SAMME\",\n",
    "                                       n_estimators=n_estimators)\n",
    "\n",
    "ada_boost_sklearn.fit(X_train, y_train)"
   ]
  },
  {
   "cell_type": "code",
   "execution_count": null,
   "metadata": {
    "ExecuteTime": {
     "start_time": "2023-02-18T19:43:17.272Z"
    },
    "id": "oqUyFlqmkK9B"
   },
   "outputs": [],
   "source": [
    "classifiers = [ada_boost, ada_boost_sklearn]\n",
    "names = ['ada_boost', 'ada_boost_sklearn']"
   ]
  },
  {
   "cell_type": "code",
   "execution_count": null,
   "metadata": {
    "ExecuteTime": {
     "start_time": "2023-02-18T19:43:17.278Z"
    },
    "colab": {
     "base_uri": "https://localhost:8080/",
     "height": 458
    },
    "id": "GcyrZ3nBkK9B",
    "outputId": "2e374ac2-b050-471a-a3c2-b6a4d14b374e"
   },
   "outputs": [],
   "source": [
    "# # test ensemble classifier\n",
    "plt.figure(figsize=(15, 7))\n",
    "for i, clf in enumerate(classifiers):\n",
    "    prediction = clf.predict(X_test)\n",
    "\n",
    "    # Put the result into a color plot\n",
    "    ax = plt.subplot(1, len(classifiers), i + 1)\n",
    "    Z = clf.predict(np.c_[xx.ravel(), yy.ravel()])\n",
    "    Z = Z.reshape(xx.shape)\n",
    "    ax.contourf(xx, yy, Z, cmap=cm, alpha=.8)\n",
    "\n",
    "    # Plot also the training points\n",
    "    ax.scatter(X[:, 0], X[:, 1], c=y, cmap=cm_bright, alpha=0.5)\n",
    "\n",
    "    ax.set_xlim(xx.min(), xx.max())\n",
    "    ax.set_ylim(yy.min(), yy.max())\n",
    "    ax.set_xticks(())\n",
    "    ax.set_yticks(())\n",
    "    ax.set_title(names[i])\n",
    "\n",
    "    print('accuracy {}: {}'.format(names[i], (prediction == y_test).sum() * 1. / len(y_test)))"
   ]
  },
  {
   "cell_type": "markdown",
   "metadata": {
    "id": "b49CJJOYkK9B"
   },
   "source": [
    "## Task 7. Gradient Boosting (1 point)"
   ]
  },
  {
   "cell_type": "markdown",
   "metadata": {
    "id": "oKNbjHi5kK9B"
   },
   "source": [
    "Gradient Boosting Machines (GBM) is a historical and logical continuation of the first boosting algorithms. In a way, one can consider AdaBoost as another variant of GBMs. These methods are extremely powerful tools, widely used in industry, research and various machine learning competitions. \n",
    "\n",
    "In this task we offer to focus on one variant of GBM called [XGBoost](https://github.com/dmlc/xgboost/tree/master/python-package). The dataset that is going to be used is  [Telecom Churn Dataset] (https://www.kaggle.com/becksddf/churn-in-telecoms-dataset)."
   ]
  },
  {
   "cell_type": "markdown",
   "metadata": {
    "id": "bAP6_k-akK9C"
   },
   "source": [
    "Make sure that you have installed the XGBoost package before starting the task. "
   ]
  },
  {
   "cell_type": "code",
   "execution_count": null,
   "metadata": {
    "ExecuteTime": {
     "start_time": "2023-02-18T19:43:17.284Z"
    },
    "id": "gVsDMrUpkK9C"
   },
   "outputs": [],
   "source": [
    "from sklearn.datasets import load_breast_cancer\n",
    "from sklearn.model_selection import train_test_split\n",
    "import pandas as pd\n",
    "from xgboost import XGBClassifier\n",
    "from sklearn.linear_model import LogisticRegression\n",
    "from sklearn.ensemble import RandomForestClassifier\n",
    "\n",
    "#data = pd.read_csv('/content/drive/MyDrive/Colab Notebooks/hw1_ML/data/telecom_churn.csv')\n",
    "data = pd.read_csv('./data/telecom_churn.csv')\n",
    "cols = ['account length','number vmail messages',\n",
    "       'total day minutes', 'total day calls', 'total day charge',\n",
    "       'total eve minutes', 'total eve calls', 'total eve charge',\n",
    "       'total night minutes', 'total night calls', 'total night charge',\n",
    "       'total intl minutes', 'total intl calls', 'total intl charge',\n",
    "       'customer service calls', 'churn']\n",
    "data = data[cols]\n",
    "data.iloc[:,-1] = pd.Categorical(data.iloc[:,-1])\n",
    "data.iloc[:,-1] = data.iloc[:,-1].cat.codes\n",
    "X, y = data.iloc[:,:-1], data.iloc[:,-1]\n",
    "\n",
    "X_train, X_test, y_train, y_test = train_test_split(X, y, test_size=0.4,\n",
    "                                                    random_state=0xC0FFEE)"
   ]
  },
  {
   "cell_type": "markdown",
   "metadata": {
    "id": "bP83AMBnkK9C"
   },
   "source": [
    " You will need to construct an XGBoost classification model, train it, plot the ROC curve, measure the training time and compare it to Random Forest. Afterward, compare the models' feature importances. \n",
    "\n",
    "* train the XGBoost classifier on the provided dataset\n",
    "* measure the training time\n",
    "* measure the average precision score on the test set\n",
    "* plot ROC-curve\n",
    "* repeat the previous steps for Random Forest classifier\n",
    "\n",
    "**HINT**: use ```time.perf_counter()``` to measure time."
   ]
  },
  {
   "cell_type": "code",
   "execution_count": null,
   "metadata": {
    "ExecuteTime": {
     "start_time": "2023-02-18T19:43:17.291Z"
    },
    "colab": {
     "base_uri": "https://localhost:8080/",
     "height": 646
    },
    "id": "3bi8XqfRkK9C",
    "outputId": "b8a14cd1-15a7-4996-e400-d97b3b398766"
   },
   "outputs": [],
   "source": [
    "### BEGIN Solution (do not delete this comment)\n",
    "def compare(X_train, y_train, X_test, y_test):\n",
    "\n",
    "    models = [\n",
    "        XGBClassifier(random_state=42), \n",
    "        RandomForestClassifier(random_state = 42)\n",
    "    ]\n",
    "\n",
    "    names = ['XGBoostClassifier', 'RandomForestClassifier']\n",
    "\n",
    "    for model, name in zip(models, names):\n",
    "        start = time.perf_counter()\n",
    "        model.fit(X_train, y_train)\n",
    "        end = time.perf_counter()\n",
    "\n",
    "        av_score = average_precision_score(y_test, model.predict_proba(X_test)[:, 1])\n",
    "\n",
    "        fpr_model, tpr_model, _= roc_curve(y_test, model.predict_proba(X_test)[:, 1])\n",
    "\n",
    "        print(\"Training time for \" + name + \": \",  end - start)\n",
    "        print(\"Average precision score for \" + name + \": \", av_score)\n",
    "\n",
    "        fig = plt.figure(figsize=(7, 4))\n",
    "\n",
    "      # specify parameters for the model\n",
    "        plt.xlabel(\"False Positive Rate\")\n",
    "        plt.ylabel(\"True Positive Rate\")\n",
    "      #plt.plot(xlabel=\"False Positive Rate\", xlim=(-.03, 1.03), ylabel=\"True Positive Rate\", ylim=(-.03, 1.03))\n",
    "      # draw the model curve\n",
    "        plt.plot(fpr_model, tpr_model, color='navy', lw=2, label = name)\n",
    "        plt.legend(loc=\"lower right\")\n",
    "        plt.tight_layout()\n",
    "compare(X_train, y_train, X_test, y_test)\n",
    "### END Solution (do not delete this comment)"
   ]
  },
  {
   "cell_type": "markdown",
   "metadata": {
    "id": "ElCxK6N8kK9D"
   },
   "source": [
    "* extract and compare the feature importances calculated by the previously trained XGBoost and Random Forest Classifiers. Are they different or the same, why?"
   ]
  },
  {
   "cell_type": "code",
   "execution_count": null,
   "metadata": {
    "ExecuteTime": {
     "start_time": "2023-02-18T19:43:17.296Z"
    },
    "colab": {
     "base_uri": "https://localhost:8080/",
     "height": 791
    },
    "id": "Kh71cl4ekK9D",
    "outputId": "ad878c98-7fe5-4e4c-9db8-fd352145e598"
   },
   "outputs": [],
   "source": [
    "### BEGIN Solution (do not delete this comment)\n",
    "def top_features(X_train, y_train, X_test, y_test):\n",
    "    models = [\n",
    "        XGBClassifier(random_state=42), \n",
    "        RandomForestClassifier(random_state = 42)\n",
    "    ]\n",
    "    names = ['XGBoostClassifier', 'RandomForestClassifier']\n",
    "\n",
    "    for model, name in zip(models, names):\n",
    "        model.fit(X_train, y_train)\n",
    "        feature_importance = model.feature_importances_\n",
    "        sorted_idx = np.argsort(feature_importance)\n",
    "        fig = plt.figure(figsize=(12, 6))\n",
    "        plt.barh(range(len(sorted_idx)), feature_importance[sorted_idx], color='blue', align='center')\n",
    "        plt.yticks(range(len(sorted_idx)), np.array(X_test.columns)[sorted_idx])\n",
    "        plt.xlabel('Relative importance')\n",
    "        plt.title(name)\n",
    "\n",
    "top_features(X_train, y_train, X_test, y_test)\n",
    "### END Solution (do not delete this comment)"
   ]
  },
  {
   "cell_type": "markdown",
   "metadata": {
    "id": "SkHGMoAKkK9D"
   },
   "source": [
    "**Your text answer (do not delete this comment)**:\n",
    "\n",
    "We used here different approaches. Random Forest is bagging and XGBoost is boosting. Random Forest pick features randomly while XGBoost find the correlation."
   ]
  },
  {
   "cell_type": "code",
   "execution_count": null,
   "metadata": {
    "ExecuteTime": {
     "start_time": "2023-02-18T19:43:17.302Z"
    },
    "id": "cooperative-spokesman"
   },
   "outputs": [],
   "source": [
    "import numpy as np\n",
    "import sklearn\n",
    "from sklearn.model_selection import train_test_split\n",
    "import pandas as pd\n",
    "import matplotlib.pyplot as plt\n",
    "from sklearn.model_selection import cross_val_score\n",
    "%matplotlib inline"
   ]
  },
  {
   "cell_type": "code",
   "execution_count": null,
   "metadata": {
    "ExecuteTime": {
     "start_time": "2023-02-18T19:43:17.306Z"
    },
    "id": "noted-bridal"
   },
   "outputs": [],
   "source": [
    "import warnings\n",
    "warnings.filterwarnings(\"ignore\")"
   ]
  },
  {
   "cell_type": "markdown",
   "metadata": {
    "id": "guilty-contamination"
   },
   "source": [
    "## Task 8. Model and feature selection problem (3 points)\n",
    "\n",
    "Your goal in this task is to predict the price (```price_doc```) given some characteristics of a house. In order to do that, you will demonstrate your abilities in data preprocessing, finding feature importances, applying different ML models."
   ]
  },
  {
   "cell_type": "markdown",
   "metadata": {
    "id": "friendly-review"
   },
   "source": [
    "### Subproblem 8.1. Data preprocessing and feauture importances (1 point)\n",
    "\n",
    "The goal of this subproblem is to prepare the data for further usage. Complete all of the following subtasks:"
   ]
  },
  {
   "cell_type": "markdown",
   "metadata": {
    "id": "rational-reggae"
   },
   "source": [
    "**8.1.1) load the dataset `./data/data_fs.csv`**"
   ]
  },
  {
   "cell_type": "code",
   "execution_count": null,
   "metadata": {
    "ExecuteTime": {
     "start_time": "2023-02-18T19:43:17.315Z"
    },
    "id": "nutritional-phoenix"
   },
   "outputs": [],
   "source": [
    "### BEGIN Solution (do not delete this comment)\n",
    "#ds = pd.read_csv('/content/drive/MyDrive/Colab Notebooks/hw1_ML/data/data_fs.csv')\n",
    "ds = pd.read_csv('./data/data_fs.csv')\n",
    "### END Solution (do not delete this comment)"
   ]
  },
  {
   "cell_type": "markdown",
   "metadata": {
    "id": "objective-working"
   },
   "source": [
    "**8.1.2) preprocess the dataset by dropping the ```timestamp``` feature, filling ```NaN```s with 0, converting the categorical variables into dummy variables**"
   ]
  },
  {
   "cell_type": "code",
   "execution_count": null,
   "metadata": {
    "ExecuteTime": {
     "start_time": "2023-02-18T19:43:17.320Z"
    },
    "colab": {
     "base_uri": "https://localhost:8080/"
    },
    "id": "another-keyboard",
    "outputId": "a344d08f-8e9e-4c41-949c-170a8ae3288b"
   },
   "outputs": [],
   "source": [
    "### BEGIN Solution (do not delete this comment)\n",
    "df = ds.drop(['timestamp'], axis=1)\n",
    "df = df.fillna(0)\n",
    "df = pd.get_dummies(df)\n",
    "n_features = len(df.columns)\n",
    "print(n_features)\n",
    "### END Solution (do not delete this comment)"
   ]
  },
  {
   "cell_type": "markdown",
   "metadata": {
    "id": "dress-shanghai"
   },
   "source": [
    "**8.1.3) define ```x_train```, ```x_test```, ```y_train```, ```y_test```. The train-test split should be 70:30**\n"
   ]
  },
  {
   "cell_type": "code",
   "execution_count": null,
   "metadata": {
    "ExecuteTime": {
     "start_time": "2023-02-18T19:43:17.328Z"
    },
    "id": "outdoor-runner"
   },
   "outputs": [],
   "source": [
    "### BEGIN Solution (do not delete this comment)\n",
    "X = df.drop(['price_doc'], axis = 1)\n",
    "y = df['price_doc']\n",
    "X_train, X_test, y_train, y_test = train_test_split(X, y, test_size=0.3, random_state=42)\n",
    "### END Solution (do not delete this comment)"
   ]
  },
  {
   "cell_type": "markdown",
   "metadata": {
    "id": "engaging-ready"
   },
   "source": [
    "\n",
    "**8.1.4) plot the histogram of y values. Note that the mean of these values is very high and the distribution of the values is far from normal. Create ```y_train_log``` and ```y_test_log``` by applying $log_{y}$. Now plot the new histogram of the obtained values. You should use these log values for the next subtasks.**   "
   ]
  },
  {
   "cell_type": "code",
   "execution_count": null,
   "metadata": {
    "ExecuteTime": {
     "start_time": "2023-02-18T19:43:17.334Z"
    },
    "colab": {
     "base_uri": "https://localhost:8080/",
     "height": 624
    },
    "id": "inclusive-outreach",
    "outputId": "be310679-86ab-402b-e174-aa6b10868ac7"
   },
   "outputs": [],
   "source": [
    "### BEGIN Solution (do not delete this comment)\n",
    "y_train_log = np.log(y_train)\n",
    "y_test_log = np.log(y_test)\n",
    "\n",
    "fig, (axis1, axis2) = plt.subplots(2, 1, figsize=(7, 10))\n",
    "\n",
    "axis1.set_title('price_doc, y_train')\n",
    "axis2.set_title('price_doc, y_train_log')\n",
    "\n",
    "y_train.hist(ax = axis1, bins = 100)\n",
    "y_train_log.hist(ax = axis2, bins = 100)\n",
    "### END Solution (do not delete this comment)"
   ]
  },
  {
   "cell_type": "markdown",
   "metadata": {
    "id": "noticed-drunk"
   },
   "source": [
    "**8.1.5) print the number of features in the created ```x_train``` and ```x_test``` datasets. Answer the question: do you think all of these features are relevant for the adequate price prediction?**\n"
   ]
  },
  {
   "cell_type": "code",
   "execution_count": null,
   "metadata": {
    "ExecuteTime": {
     "start_time": "2023-02-18T19:43:17.339Z"
    },
    "colab": {
     "base_uri": "https://localhost:8080/"
    },
    "id": "strategic-spending",
    "outputId": "4fe9eda5-ed0d-4f2d-e9e6-1192a0bb8abd"
   },
   "outputs": [],
   "source": [
    "### BEGIN Solution (do not delete this comment)\n",
    "print(\"Train size =\", X_train.shape)\n",
    "print(\"Test size =\", X_test.shape)\n",
    "### END Solution (do not delete this comment)"
   ]
  },
  {
   "cell_type": "markdown",
   "metadata": {
    "id": "restricted-anchor"
   },
   "source": [
    "**Your text answer (do not delete this comment)**:\n",
    "\n",
    "I think that not all of these features are relevant for price prediction. We have to decrease number of features to avoid overfitting and make training time smaller."
   ]
  },
  {
   "cell_type": "markdown",
   "metadata": {
    "id": "unnecessary-bonus"
   },
   "source": [
    "There are too many features in this dataset and not all of them are equally important for our problem. Besides, using the whole dataset as-is to train a linear model will, for sure, lead to overfitting. Instead of painful and time consuming manual selection of the most relevant data, we will use the methods of automatic feature selection."
   ]
  },
  {
   "cell_type": "markdown",
   "metadata": {
    "id": "endangered-mineral"
   },
   "source": [
    "**8.1.6) use random forest to find the importance of the features. Plot the histogram of the importances.**"
   ]
  },
  {
   "cell_type": "code",
   "execution_count": null,
   "metadata": {
    "ExecuteTime": {
     "start_time": "2023-02-18T19:43:17.345Z"
    },
    "colab": {
     "base_uri": "https://localhost:8080/",
     "height": 265
    },
    "id": "residential-tongue",
    "outputId": "2645703e-56d1-4efe-def7-d069a1b65078"
   },
   "outputs": [],
   "source": [
    "### BEGIN Solution (do not delete this comment)\n",
    "forest = RandomForestRegressor(random_state=42)\n",
    "forest.fit(X_train, y_train_log)\n",
    "importances = forest.feature_importances_\n",
    "plt.hist(importances, 100);\n",
    "### END Solution (do not delete this comment)"
   ]
  },
  {
   "cell_type": "markdown",
   "metadata": {
    "id": "ethical-firmware"
   },
   "source": [
    "**8.1.7) print the names of the 20 most important features**"
   ]
  },
  {
   "cell_type": "code",
   "execution_count": null,
   "metadata": {
    "ExecuteTime": {
     "start_time": "2023-02-18T19:43:17.350Z"
    },
    "colab": {
     "base_uri": "https://localhost:8080/"
    },
    "id": "amazing-marriage",
    "outputId": "c92d5e81-f449-42e2-c527-4816a53b7b5d"
   },
   "outputs": [],
   "source": [
    "### BEGIN Solution (do not delete this comment)\n",
    "sorted_indices = np.argsort(importances)[::-1]\n",
    "feat_labels = df.columns[0:]\n",
    "top_features = []\n",
    "for f in range(20):\n",
    "    print(\"%2d) %-*s %f\" % (f + 1, 30,\n",
    "                            feat_labels[sorted_indices[f]],\n",
    "                            importances[sorted_indices[f]]))\n",
    "    top_features.append(feat_labels[sorted_indices[f]])\n",
    "### END Solution (do not delete this comment)"
   ]
  },
  {
   "cell_type": "markdown",
   "metadata": {
    "id": "threaded-ivory"
   },
   "source": [
    "<br>"
   ]
  },
  {
   "cell_type": "markdown",
   "metadata": {
    "id": "little-toddler"
   },
   "source": [
    "### Subproblem 8.2. Training models on the most important features (1 point)"
   ]
  },
  {
   "cell_type": "markdown",
   "metadata": {
    "id": "vietnamese-patrick"
   },
   "source": [
    "In this subproblem, you will train several ML models on the found 20 most important features: train **Linear Regression**,  **Ridge regression**, **Random forest**,  **DecisionTree** and evaluate their performance using the Root Mean Squared Logarithmic Error (RMSLE) on both train/test sets. \n",
    "\n",
    "You will have to repeat the same actions in the next tasks too, so we recommend to implement\n",
    "a dedicated function for comparisons, which\n",
    "1. it takes a training dataset `(X_train, y_train)` and a test sample `(X_test, y_test)` as the input;\n",
    "2. it trains **all of the listed models** on the `(X_train, y_train)` sample;\n",
    "3. it computes and returns a table with the RMSLE score of each fitted model on the train and test datasets."
   ]
  },
  {
   "cell_type": "markdown",
   "metadata": {
    "id": "stupid-principle"
   },
   "source": [
    "**8.2.1) Implement the function described above**"
   ]
  },
  {
   "cell_type": "code",
   "execution_count": null,
   "metadata": {
    "ExecuteTime": {
     "start_time": "2023-02-18T19:43:17.359Z"
    },
    "id": "paperback-uniform"
   },
   "outputs": [],
   "source": [
    "### BEGIN Solution (do not delete this comment)\n",
    "def compare(X_train, y_train, X_test, y_test):\n",
    "\n",
    "    models = [\n",
    "        LinearRegression(), \n",
    "        Ridge(random_state = 42),\n",
    "        RandomForestRegressor(random_state = 42),\n",
    "        DecisionTreeRegressor(random_state = 42)\n",
    "    ]\n",
    "    names = ['Linear Regression', 'Ridge regression', 'Random forest','DecisionTree']\n",
    "\n",
    "    error_train = []\n",
    "    error_test = []\n",
    "    scale = StandardScaler()\n",
    "    X_scaled_train = scale.fit_transform(X_train)\n",
    "    X_scaled_test = scale.transform(X_test)\n",
    "\n",
    "    for model, name in zip(models, names):\n",
    "        model.fit(X_scaled_train, y_train)\n",
    "        error_train.append(msle(np.exp(y_train), np.exp(model.predict(X_scaled_train)), squared=False))\n",
    "        error_test.append(msle(np.exp(y_test), np.exp(model.predict(X_scaled_test)), squared=False))\n",
    "    \n",
    "    return pd.DataFrame({\n",
    "        'Models': names,\n",
    "        'Train loss': error_train,\n",
    "        'Test loss': error_test\n",
    "    })\n",
    "### END Solution (do not delete this comment)"
   ]
  },
  {
   "cell_type": "markdown",
   "metadata": {
    "id": "demographic-honolulu"
   },
   "source": [
    "**8.2.2) Apply the implemented function to our dataset (use only the 20 most important features)**"
   ]
  },
  {
   "cell_type": "code",
   "execution_count": null,
   "metadata": {
    "ExecuteTime": {
     "start_time": "2023-02-18T19:43:17.364Z"
    },
    "colab": {
     "base_uri": "https://localhost:8080/",
     "height": 175
    },
    "id": "loved-bedroom",
    "outputId": "90f34d5b-6420-4258-bdbe-f8f8de4a1a54"
   },
   "outputs": [],
   "source": [
    "### BEGIN Solution\n",
    "compare(X_train[top_features], y_train_log, X_test[top_features], y_test_log)\n",
    "### END Solution"
   ]
  },
  {
   "cell_type": "markdown",
   "metadata": {
    "id": "6lSOGA4-7RSx"
   },
   "source": [
    "<br>"
   ]
  },
  {
   "cell_type": "markdown",
   "metadata": {
    "id": "stock-jewel"
   },
   "source": [
    "### Subproblem 8.3. Forward-backward methods (1 point)\n",
    "In the subproblems above, we have relied on the feature importances found by the random forest method. The main goal of this subproblem is to find them by appling the forward-backward methods: the main idea is to add or remove features and compute how this removal influences the value of the loss function or some other criteria.\n",
    "\n",
    "Decision about adding or deleting a feature may be made based on:\n",
    "\n",
    "- AIC\n",
    "- BIC\n",
    "- validation error\n",
    "- Mallows $C_p$\n",
    "- sklearn's `estimator.score()`"
   ]
  },
  {
   "cell_type": "markdown",
   "metadata": {
    "id": "southern-closer"
   },
   "source": [
    "In subtasks 8.3.1 - 8.3.3, implement the following greedy feature selection algorithm with early stopping using the mean of the RMSLE scores achieved on the 3-fold cross-validation. Please bear in mind that **the lower** RMSLE (`mean_squared_log_error`) is, **the higher the model \"quality\" is** and look up `cross_val_score(...)` peculiarities in [scikit's manual](https://scikit-learn.org/stable/documentation.html) for more information.\n",
    "\n",
    "```python\n",
    "# Initialize with an empty list of features.\n",
    "list_of_best_features = []\n",
    "\n",
    "while round < n_rounds:\n",
    "    round = round + 1\n",
    "    \n",
    "    if no_more_features:\n",
    "        # end loop\n",
    "\n",
    "    # Iterate over currently *unused* features and use $k$-fold \n",
    "    # . `cross_val_score` to measure model \"quality\".\n",
    "    compute_quality_with_each_new_unused_feature(...)\n",
    "\n",
    "    # **Add** the feature that gives the highest \"quality\" of the model.\n",
    "    pick_and_add_the_best_feature(...)\n",
    "\n",
    "    if model_quality_has_increased_since_last_round:\n",
    "        round = 0\n",
    "\n",
    "return list_of_best_features\n",
    "```"
   ]
  },
  {
   "cell_type": "markdown",
   "metadata": {
    "id": "suffering-italy"
   },
   "source": [
    "**8.3.1) In the cell below, you have to implement a function that would iterate over a list of features and use $k$-fold `cross_val_score` to measure model's \"quality\".** "
   ]
  },
  {
   "cell_type": "code",
   "execution_count": null,
   "metadata": {
    "ExecuteTime": {
     "start_time": "2023-02-18T19:43:17.371Z"
    },
    "id": "caroline-state"
   },
   "outputs": [],
   "source": [
    "from sklearn.metrics import make_scorer\n",
    "\n",
    "def selection_step(model, X, y, used_features=(), cv=3):\n",
    "    \"\"\"\n",
    "    Parameters\n",
    "    ==========\n",
    "        X: ndarray - training inputs\n",
    "        y: ndarray - training targets\n",
    "        used_features: - list of features\n",
    "        cv: int - number of folds\n",
    "\n",
    "    Returns\n",
    "    =======\n",
    "        scores - dictionary of scores\n",
    "    \"\"\"\n",
    "    \n",
    "    scores = {}\n",
    "    \n",
    "    ### BEGIN Solution\n",
    "\n",
    "    ### END Solution\n",
    "\n",
    "    return scores"
   ]
  },
  {
   "cell_type": "markdown",
   "metadata": {
    "id": "laughing-patio"
   },
   "source": [
    "**8.3.2) Implement a forward greedy feature selection function (the one described in the pseudocode in the subtask 1 above) that would**\n",
    "\n",
    "**- compute the model's \"quality\" over currently *unused* features**\n",
    "\n",
    "**- find the feature, which has given the best score and add to the list of the currently *used* features**\n",
    "\n",
    "**- if the model's quality has increased since the last round, add this feauture to the list of the best features and  print the best score and the current best features list**\n",
    "\n",
    "**Do not forget to implement the early stopping.**"
   ]
  },
  {
   "cell_type": "code",
   "execution_count": null,
   "metadata": {
    "ExecuteTime": {
     "start_time": "2023-02-18T19:43:17.375Z"
    },
    "id": "pressed-worse"
   },
   "outputs": [],
   "source": [
    "def forward_steps(X, y, n_rounds, model):\n",
    "    \"\"\"\n",
    "    Parameters\n",
    "    ==========\n",
    "        X: ndarray - training inputs\n",
    "        y: ndarray - training targets\n",
    "        n_rounds: int - early stop when score doesn't increase n_rounds\n",
    "        model: sklearn model\n",
    "\n",
    "    Returns\n",
    "    =======\n",
    "        feat_best_list - list of features\n",
    "    \"\"\"\n",
    "    \n",
    "    feat_best_list = []\n",
    "\n",
    "    ### BEGIN Solution\n",
    "\n",
    "    ### END Solution\n",
    "    \n",
    "    return feat_best_list\n"
   ]
  },
  {
   "cell_type": "markdown",
   "metadata": {
    "id": "geographic-holly"
   },
   "source": [
    "**8.3.3) Use the function implemented above + DecisionTreeRegressor to get the best features according to this algorithm. (HINT: Use ```n_rounds = 2```)**"
   ]
  },
  {
   "cell_type": "code",
   "execution_count": null,
   "metadata": {
    "ExecuteTime": {
     "start_time": "2023-02-18T19:43:17.381Z"
    },
    "id": "hazardous-retirement"
   },
   "outputs": [],
   "source": [
    "### BEGIN Solution\n",
    "\n",
    "### END Solution"
   ]
  },
  {
   "cell_type": "markdown",
   "metadata": {
    "id": "contrary-packet"
   },
   "source": [
    "**8.3.4) Use Linear Regression, Ridge regression, Random forest and DecisionTree to get the RMSLE score using these features. Remember the function you wrote earlier.**"
   ]
  },
  {
   "cell_type": "code",
   "execution_count": null,
   "metadata": {
    "ExecuteTime": {
     "start_time": "2023-02-18T19:43:17.388Z"
    },
    "colab": {
     "base_uri": "https://localhost:8080/",
     "height": 221
    },
    "id": "graduate-tooth",
    "outputId": "72812408-0c21-4229-ff2d-f29243966f3d"
   },
   "outputs": [],
   "source": [
    "### BEGIN Solution\n",
    "print('EXPECTED OUTPUT FORMAT')\n",
    "#comparator(X_train[X_train.columns[forward_alg_features]], y_train_log, X_test[X_train.columns[forward_alg_features]], y_test_log)\n",
    "\n",
    "### END Solution"
   ]
  },
  {
   "cell_type": "markdown",
   "metadata": {
    "id": "infinite-navigation"
   },
   "source": [
    "<br>"
   ]
  },
  {
   "cell_type": "markdown",
   "metadata": {
    "id": "individual-rendering"
   },
   "source": [
    "## Task 9. Multi-Class Classification Strategies (1 point)\n",
    "In this task, you will deal with the multiclass classification problem for the Glass Classification Data. Let's load the dataset."
   ]
  },
  {
   "cell_type": "code",
   "execution_count": null,
   "metadata": {
    "ExecuteTime": {
     "start_time": "2023-02-18T19:43:17.396Z"
    },
    "colab": {
     "base_uri": "https://localhost:8080/",
     "height": 142
    },
    "id": "technical-trader",
    "outputId": "91043ffe-6127-441b-a6ae-58f111768d40"
   },
   "outputs": [],
   "source": [
    "data = pd.read_csv('./data/glass.csv')\n",
    "X, y = data.drop('Type', axis=1), data.Type\n",
    "data.sample(3)"
   ]
  },
  {
   "cell_type": "markdown",
   "metadata": {
    "id": "flying-region"
   },
   "source": [
    "The features of each glass oject correspond to the fraction of the particular chemical element in the object. The target variable corresponds to the type of glass (6 classes).\n",
    "\n",
    "In this problem, you have to empirically compare the time complexity and performance of several multiclass labeling strategies for different algorithms. You must consider the following algorithms:\n",
    "* Single Decision Tree (depth 7)\n",
    "* Medium Random Forest (100 trees of depth 3)\n",
    "* KNearestNeighbors (5 neighbors)\n",
    "* Logistic Regression\n",
    "\n",
    "Note that all these algorithms by default support **multiclass labeling**. Nevertheless, we want you to compare this approach with **OneVSRest** and **OneVSOne** approaches applied to this algorithms. More precisely, for every pair (algorithm, approach) you are to perform 5-fold cross validation on the data and output the validation score and the computation time in the **table** form. Please note that you also have to choose the metric to optimize during CV (e.g. accuracy, balanced accuracy) on your own. \n",
    "\n",
    "After that, you are to answer the following questions:\n",
    "* Which metric did you choose to optimize during cross validation and why? Explain\n",
    "* For which algorithms the usage of OneVSRest/OneVSOne approach provides significantly better performance without significant increase in computation time?"
   ]
  },
  {
   "cell_type": "code",
   "execution_count": null,
   "metadata": {
    "ExecuteTime": {
     "start_time": "2023-02-18T19:43:17.401Z"
    },
    "colab": {
     "base_uri": "https://localhost:8080/",
     "height": 502
    },
    "id": "authentic-slope",
    "outputId": "74cd13fe-8035-4eda-be0f-8ca844327a74"
   },
   "outputs": [],
   "source": [
    "### BEGIN Solution (do not delete this comment)\n",
    "\n",
    "models = {\n",
    "    'Decision Tree' : DecisionTreeClassifier(max_depth=7, random_state=42),\n",
    "    'Random Forest' : RandomForestClassifier(n_estimators=100, max_depth=3, random_state=42),\n",
    "    'K Nearest Neighbors' : KNeighborsClassifier(n_neighbors=5),\n",
    "    'Logistic' : LogisticRegression(random_state=42)  \n",
    "}\n",
    "\n",
    "'''strategies = {\n",
    "    'Multiclass' : {\n",
    "        'Decision Tree' : DecisionTreeRegressor(max_depth=7, random_state=42),\n",
    "        'Random Forest' : RandomForestRegressor(n_estimators=100, max_depth=3, random_state=42),\n",
    "        'K Nearest Neighbors' : KNeighborsRegressor(n_neighbors=5),\n",
    "        'Logistic' : LogisticRegression(multi_class='multinomial', random_state=42)       \n",
    "    },\n",
    "    'OneVSRest': {},\n",
    "    'OneVSOne' : {}\n",
    "}'''\n",
    "\n",
    "cv_score = pd.DataFrame(columns=['Decision Tree', 'Random Forest', 'K Nearest Neighbors', 'Logistic'],\n",
    "                         index=['Multiclass', 'OneVSRest', 'OneVSOne'])\n",
    "\n",
    "train_duration = pd.DataFrame(columns=['Decision Tree', 'Random Forest', 'K Nearest Neighbors', 'Logistic'],\n",
    "                         index=['Multiclass', 'OneVSRest', 'OneVSOne'])\n",
    "\n",
    "for model in models:\n",
    "    start = time.perf_counter()\n",
    "    score = cross_val_score(models[model], X, y, scoring='balanced_accuracy', cv=5).mean()\n",
    "    cv_score[model]['Multiclass'] = np.round(score, 3)\n",
    "    train_duration[model]['Multiclass'] = time.perf_counter() - start\n",
    "    \n",
    "\n",
    "for model in models:\n",
    "    mod = OneVsRestClassifier(models[model])\n",
    "    start = time.perf_counter()\n",
    "    score = cross_val_score(mod, X, y, scoring='balanced_accuracy', cv=5).mean()\n",
    "    cv_score[model]['OneVSRest'] = np.round(score, 3)\n",
    "    train_duration[model]['OneVSRest'] = time.perf_counter() - start\n",
    "\n",
    "for model in models:\n",
    "    mod = OneVsOneClassifier(models[model])\n",
    "    start = time.perf_counter()\n",
    "    score = cross_val_score(mod, X, y, scoring='balanced_accuracy', cv=5).mean()\n",
    "    cv_score[model]['OneVSOne'] = np.round(score, 3)\n",
    "    train_duration[model]['OneVSOne'] = time.perf_counter() - start\n",
    "\n",
    "print('Cross Validation Scores')    \n",
    "display(cv_score)\n",
    "print('\\nTraining Duration (CV=5)')\n",
    "display(train_duration)\n",
    "\n",
    "### END Solution (do not delete this comment)"
   ]
  },
  {
   "cell_type": "markdown",
   "metadata": {
    "id": "married-preserve"
   },
   "source": [
    "**Which metric did you choose to optimize during cross validation and why? Explain**"
   ]
  },
  {
   "cell_type": "markdown",
   "metadata": {
    "id": "dutch-alfred"
   },
   "source": [
    "**Your text answer (do not delete this comment)**:\n",
    "\n",
    "Balanced accuracy will help to achive beter perfomance because we have non even distribition between classes."
   ]
  },
  {
   "cell_type": "markdown",
   "metadata": {
    "id": "elect-jerusalem"
   },
   "source": [
    "**For which algorithms the usage of OneVSRest/OneVSOne approach provides significantly better performance without significant increase in computation time?**"
   ]
  },
  {
   "cell_type": "markdown",
   "metadata": {
    "id": "CH04Ord57RS4"
   },
   "source": [
    "**Your text answer (do not delete this comment)**:\n",
    "\n",
    "Decision shows the best result for OneVSRest while K Nearest Neighbors  is best model for OneVSOne."
   ]
  },
  {
   "cell_type": "markdown",
   "metadata": {
    "id": "electric-matthew"
   },
   "source": [
    "# Task 10. Stacking (2 points)"
   ]
  },
  {
   "cell_type": "markdown",
   "metadata": {
    "id": "third-liverpool"
   },
   "source": [
    "Stacking is an ensembling approach, which combines several algorithms (base models) to get better results. This is achieved by **a)** training the base models (any ML models) on the initial train data (or parts of the train data, see the paragraph below), **b)** training the meta-model (also an ML model) on the predictions of those base models.\n",
    "\n",
    "One of the main problems of stacking is overfitting. To avoid it, when evaluating the performance of the meta-model on the train set, the training data is divided into $ n $ folds, $ (n-1) $ of which are used for training the base models. The $ n $ -th fold is used for the overall prediction (calculating the meta-factor) in the following manner: the predictions on the $ n $ -th fold are made by the base models (already trained on the rest of the dataset), then these predictions are fed as inputs to the meta-model.\n",
    "\n",
    "When evaluating the performance of the meta-model on the test set, there can be used various approaches$.^{[1]}$ For example, in order, to obtain meta-factors for the test data, the base classifiers can be trained on the entire training set, since the problem of overfitting does not arise here. In other words, if we want to calculate the factors for the test set, we can safely use the training set to train the base classifiers (once again, as it is said in the paragraph above, if we want to calculate factors for the training set, then it is necessary to ensure that the classifier does not predict for those objects on which it has been trained).  \n",
    "\n",
    "You can read more details about stacking [blockpost](https://blog.statsbot.co/ensemble-learning-d1dcd548e936), [kaggle ensemble guide](https://mlwave.com/kaggle-ensembling-guide/).\n",
    "\n",
    "P.S. Stacking and Blending are two similar approaches to combining classifiers (ensembling). The difference is that Stacking uses out-of-fold predictions for the train set, and Blending uses a validation set to train the next layer ([source](quora.com/What-are-examples-of-blending-and-stacking-in-Machine-Learning)). Because they are so similar you can use any of them. \n",
    "\n",
    "[1] http://www.machinelearning.ru/wiki/images/5/56/Guschin2015Stacking.pdf  "
   ]
  },
  {
   "cell_type": "markdown",
   "metadata": {
    "id": "recognized-guest"
   },
   "source": [
    "**Your task will be:**\n",
    "\n",
    "* Complete the ```meta_classfier``` function\n",
    "* Choose 6 different base models (base models can be any models that you know, and can differ between each other by different hyperparameters, models of ml, features e.t.c) and train them.\n",
    "* Report individual accuracy on test set for each of the models.\n",
    "* Train the metaclassifier on the original datasets features, report score on test.\n",
    "* Train the metaclassifier on the base models using $n$-fold cross-validation, as described above. Retrain the base models on the whole training set. Report the test score (accuracy) of the meta-classifier in this case.\n",
    "* Does stacking help to gain better score?"
   ]
  },
  {
   "cell_type": "markdown",
   "metadata": {
    "id": "incident-ceremony"
   },
   "source": [
    "For this task we will use the dataset fetch_covertype from [sklearn](https://scikit-learn.org/stable/modules/generated/sklearn.datasets.fetch_covtype.html#sklearn.datasets.fetch_covtype). Split it train-test - 60/40.\n",
    "More detail about this dataset you can find [here](https://archive.ics.uci.edu/ml/datasets/Covertype)"
   ]
  },
  {
   "cell_type": "code",
   "execution_count": null,
   "metadata": {
    "ExecuteTime": {
     "start_time": "2023-02-18T19:43:17.411Z"
    },
    "id": "banner-input"
   },
   "outputs": [],
   "source": [
    "from sklearn import datasets\n",
    "fc = sklearn.datasets.fetch_covtype()"
   ]
  },
  {
   "cell_type": "markdown",
   "metadata": {
    "id": "collected-flash"
   },
   "source": [
    "Write meta classifier function."
   ]
  },
  {
   "cell_type": "code",
   "execution_count": null,
   "metadata": {
    "ExecuteTime": {
     "start_time": "2023-02-18T19:43:17.417Z"
    },
    "id": "brilliant-greensboro"
   },
   "outputs": [],
   "source": [
    "from sklearn.model_selection import cross_val_predict\n",
    "\n",
    "def meta_classifier(base_clfs, final_classifier, X_train, X_test, y_train, cv):\n",
    "    \"\"\"\n",
    "    Meta classifier prediction using stacking. \n",
    "    Input:\n",
    "    :param base_clfs: list,  base classifiers which will be stacked together.\n",
    "    :param final_classifier: estimator, a classifier which will be used to combine the base estimators. \n",
    "    :param X_train: numpy array or pandas table, train set.\n",
    "    :param X_test: numpy array or pandas table, target for train set.\n",
    "    :param X_train: numpy array or pandas table, test set.\n",
    "    :param cv: number of cross-validation folds.\n",
    "    \n",
    "    Output:\n",
    "    :param y_pred: numpy array or pandas table, prediction of meta classifier using stacking on test set.\n",
    "    :param final_classifier(optional): estimator, trained final_calssifier.\n",
    "    \n",
    "    \n",
    "    More details https://scikit-learn.org/stable/modules/generated/sklearn.ensemble.StackingClassifier.html\n",
    "    \n",
    "    \"\"\"\n",
    "    ### BEGIN Solution (do not delete this comment)\n",
    "        \n",
    "    base_model_pred = None\n",
    "    for model in base_clfs:\n",
    "        cv_pred = cross_val_predict(model,X_train,y_train)\n",
    "        if base_model_pred is None:\n",
    "            base_model_pred = np.array([cv_pred]).T\n",
    "        else:\n",
    "            base_model_pred=np.append(base_model_pred,np.array([cv_pred]).T,axis=1)\n",
    "        \n",
    "    final_classifier.fit(base_model_pred,y_train)\n",
    "    \n",
    "    print('base_model_pred shape', base_model_pred.shape)\n",
    "    \n",
    "    for model in base_clfs:\n",
    "        model.fit(X_train,y_train)\n",
    "        \n",
    "    base_model_pred = None\n",
    "    for model in base_clfs:\n",
    "        y_pred_base = model.predict(X_test)\n",
    "        if base_model_pred is None:\n",
    "            base_model_pred = np.array([y_pred_base]).T\n",
    "        else:\n",
    "            base_model_pred=np.append(base_model_pred,np.array([y_pred_base]).T,axis=1)   \n",
    "            \n",
    "    y_pred = final_classifier.predict(base_model_pred)\n",
    "    return y_pred\n",
    "    ### END Solution (do not delete this comment)\n",
    "    pass"
   ]
  },
  {
   "cell_type": "markdown",
   "metadata": {
    "id": "vfZmdicwORxq"
   },
   "source": [
    "### Subproblem 10.1 (1 point)"
   ]
  },
  {
   "cell_type": "markdown",
   "metadata": {
    "id": "incredible-wichita"
   },
   "source": [
    "**10.1.1) Chose 6 different base models (base models can be any models that you know,and can differ with each other by different hyperparameters,  models of ml, features e.t.c) and train them.**"
   ]
  },
  {
   "cell_type": "code",
   "execution_count": null,
   "metadata": {
    "ExecuteTime": {
     "start_time": "2023-02-18T19:43:17.422Z"
    },
    "id": "cleared-supply"
   },
   "outputs": [],
   "source": [
    "### BEGIN Solution (do not delete this comment)\n",
    "df = pd.DataFrame(fc.data, columns=fc.feature_names)\n",
    "df[fc.target_names[0]] = pd.Series(fc.target)\n",
    "X = df.drop([fc.target_names[0]],axis=1)\n",
    "y = df[fc.target_names[0]]\n",
    "X_train, X_test, y_train, y_test = train_test_split(X, y, test_size=0.4, random_state=0)\n",
    "\n",
    "models = [\n",
    "    DecisionTreeClassifier(max_depth=6,random_state=42),\n",
    "    DecisionTreeClassifier(max_depth=4,random_state=42),\n",
    "    DecisionTreeClassifier(max_depth=3,random_state=42),\n",
    "    KNeighborsClassifier(n_neighbors=2),\n",
    "    KNeighborsClassifier(n_neighbors=3),\n",
    "    AdaBoostClassifier(random_state=42)\n",
    "]\n",
    "\n",
    "for model in models:\n",
    "    model.fit(X_train,y_train)\n",
    "### END Solution (do not delete this comment)"
   ]
  },
  {
   "cell_type": "markdown",
   "metadata": {
    "id": "streaming-crowd"
   },
   "source": [
    "**10.1.2) Report individual scores on test set. As a score use accuracy.**"
   ]
  },
  {
   "cell_type": "code",
   "execution_count": null,
   "metadata": {
    "ExecuteTime": {
     "start_time": "2023-02-18T19:43:17.429Z"
    },
    "colab": {
     "base_uri": "https://localhost:8080/"
    },
    "id": "standing-breakdown",
    "outputId": "34a2ebd2-6a1c-40c4-afec-d5cab639cd46"
   },
   "outputs": [],
   "source": [
    "### BEGIN Solution (do not delete this comment)\n",
    "names = [\n",
    "    'DecisionTree max_depth=6',\n",
    "    'DecisionTree max_depth=4',\n",
    "    'DecisionTree max_depth=3',\n",
    "    'KNeighborsRegressor n=2',\n",
    "    'KNeighborsRegressor n=3',\n",
    "    'AdaBoostClassifier'\n",
    "]\n",
    "\n",
    "for name, model in zip(names, models):\n",
    "    y_pred = model.predict(X_test)\n",
    "    print(f'accuracy of {name} on test: {np.round(accuracy_score(y_test,y_pred),3)}')\n",
    "### END Solution (do not delete this comment)"
   ]
  },
  {
   "cell_type": "markdown",
   "metadata": {
    "id": "8CsZdyGPOj6E"
   },
   "source": [
    "### Subproblem 10.2 (1 point)"
   ]
  },
  {
   "cell_type": "markdown",
   "metadata": {
    "id": "adolescent-street"
   },
   "source": [
    "**10.2.1) Train metaclassifier on original datasets features. And report score on test.**"
   ]
  },
  {
   "cell_type": "code",
   "execution_count": null,
   "metadata": {
    "ExecuteTime": {
     "start_time": "2023-02-18T19:43:17.435Z"
    },
    "id": "lesbian-fields",
    "outputId": "ee58692d-ecb3-44ad-f178-dd4fc2b3f135"
   },
   "outputs": [],
   "source": [
    "### BEGIN Solution (do not delete this comment)\n",
    "metaclassifier = DecisionTreeClassifier(random_state = 42)\n",
    "metaclassifier.fit(X_train,y_train)\n",
    "\n",
    "y_pred = metaclassifier.predict(X_test)\n",
    "print(f'accuracy of metaclassifier on original datasets features on test: {np.round(accuracy_score(y_test,y_pred),3)}')\n",
    "### END Solution (do not delete this comment)"
   ]
  },
  {
   "cell_type": "markdown",
   "metadata": {
    "id": "horizontal-wallace"
   },
   "source": [
    "**10.2.2) Train the metaclassifier on the base models using $n$-fold cross-validation, as described above. Retrain the base models on the whole training set. Report the test score (accuracy) of the meta-classifier in this case.**"
   ]
  },
  {
   "cell_type": "code",
   "execution_count": null,
   "metadata": {
    "ExecuteTime": {
     "start_time": "2023-02-18T19:43:17.440Z"
    },
    "id": "renewable-concrete",
    "outputId": "9bafa0f8-4a93-466c-d72f-8e71bbfc5f2e"
   },
   "outputs": [],
   "source": [
    "### BEGIN Solution (do not delete this comment)\n",
    "y_pred = meta_classifier(models, metaclassifier, X_train, X_test, y_train, 5)\n",
    "print(f'accuracy of metaclassifier on predictions of base classifiers on test: {np.round(accuracy_score(y_test,y_pred),3)}')\n",
    "### END Solution (do not delete this comment)"
   ]
  },
  {
   "cell_type": "markdown",
   "metadata": {
    "id": "premier-scout"
   },
   "source": [
    "**10.2.3) Does stacking helped to gain better score?**"
   ]
  },
  {
   "cell_type": "markdown",
   "metadata": {
    "id": "vSV5hJFR7RS-"
   },
   "source": [
    "**Your text answer (do not delete this comment)**:\n",
    "\n",
    "No, it showed the same result as one of base models (KNeighborsRegressor)."
   ]
  }
 ],
 "metadata": {
  "colab": {
   "provenance": []
  },
  "kernelspec": {
   "display_name": "Python 3 (ipykernel)",
   "language": "python",
   "name": "python3"
  },
  "language_info": {
   "codemirror_mode": {
    "name": "ipython",
    "version": 3
   },
   "file_extension": ".py",
   "mimetype": "text/x-python",
   "name": "python",
   "nbconvert_exporter": "python",
   "pygments_lexer": "ipython3",
   "version": "3.9.12"
  },
  "toc": {
   "base_numbering": 1,
   "nav_menu": {},
   "number_sections": true,
   "sideBar": true,
   "skip_h1_title": false,
   "title_cell": "Table of Contents",
   "title_sidebar": "Contents",
   "toc_cell": false,
   "toc_position": {},
   "toc_section_display": true,
   "toc_window_display": false
  },
  "vscode": {
   "interpreter": {
    "hash": "784c2e2ba9cdfc1ce1e8c565791a35aa78e810f3990b00899de93c9f5ea5b088"
   }
  }
 },
 "nbformat": 4,
 "nbformat_minor": 1
}
